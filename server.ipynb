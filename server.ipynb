{
 "cells": [
  {
   "cell_type": "code",
   "execution_count": null,
   "metadata": {},
   "outputs": [],
   "source": [
    "from flask import Flask, jsonify, request\n",
    "from flask_cors import CORS\n",
    "import requests\n",
    "from bs4 import BeautifulSoup\n",
    "import urllib3\n",
    "\n",
    "app = Flask(__name__)\n",
    "CORS(app)  # JavaScriptからアクセスするためCORSを有効に\n",
    "\n",
    "def pullMeaning(word):\n",
    "    # SSL証明書の警告を無視\n",
    "    urllib3.disable_warnings(urllib3.exceptions.InsecureRequestWarning)\n",
    "\n",
    "    url = f\"https://e-words.jp/w/{word}.html\"\n",
    "    headers = {\n",
    "        'User-Agent': 'Mozilla/5.0 (Windows NT 10.0; Win64; x64) AppleWebKit/537.36 (KHTML, like Gecko) Chrome/58.0.3029.110 Safari/537.3'\n",
    "    }\n",
    "\n",
    "    # verify=FalseでSSL証明書の検証をスキップ\n",
    "    response = requests.get(url, headers=headers, verify=False)\n",
    "    soup = BeautifulSoup(response.content, 'html.parser')\n",
    "\n",
    "    # metaタグのdescriptionを抽出\n",
    "    meta_description = soup.find('meta', attrs={'name': 'description'})\n",
    "    if meta_description:\n",
    "        return meta_description.get('content')\n",
    "    else:\n",
    "        return \"説明が見つかりませんでした。\"\n",
    "\n",
    "@app.route('/meaning', methods=['GET'])\n",
    "def get_meaning():\n",
    "    word = request.args.get('word', '')\n",
    "    if not word:\n",
    "        return jsonify({\"error\": \"単語が指定されていません\"}), 400\n",
    "\n",
    "    meaning = pullMeaning(word)\n",
    "    return jsonify({\"word\": word, \"meaning\": meaning})\n",
    "\n",
    "if __name__ == '__main__':\n",
    "    app.run(host='localhost', port=8080)\n"
   ]
  }
 ],
 "metadata": {
  "kernelspec": {
   "display_name": "def",
   "language": "python",
   "name": "python3"
  },
  "language_info": {
   "codemirror_mode": {
    "name": "ipython",
    "version": 3
   },
   "file_extension": ".py",
   "mimetype": "text/x-python",
   "name": "python",
   "nbconvert_exporter": "python",
   "pygments_lexer": "ipython3",
   "version": "3.10.14"
  }
 },
 "nbformat": 4,
 "nbformat_minor": 2
}
