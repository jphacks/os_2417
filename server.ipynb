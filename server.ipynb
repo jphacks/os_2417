{
 "cells": [
  {
   "cell_type": "code",
   "execution_count": 2,
   "metadata": {},
   "outputs": [
    {
     "name": "stderr",
     "output_type": "stream",
     "text": [
      "[nltk_data] Downloading package wordnet to\n",
      "[nltk_data]     /Users/tanakamidori/nltk_data...\n",
      "[nltk_data]   Package wordnet is already up-to-date!\n",
      "[nltk_data] Downloading package omw-1.4 to\n",
      "[nltk_data]     /Users/tanakamidori/nltk_data...\n",
      "[nltk_data]   Package omw-1.4 is already up-to-date!\n"
     ]
    }
   ],
   "source": [
    "import nltk\n",
    "nltk.download('wordnet')\n",
    "nltk.download('omw-1.4')\n",
    "\n",
    "from nltk.corpus import wordnet"
   ]
  },
  {
   "cell_type": "code",
   "execution_count": 3,
   "metadata": {},
   "outputs": [
    {
     "name": "stdout",
     "output_type": "stream",
     "text": [
      " * Serving Flask app '__main__'\n",
      " * Debug mode: off\n"
     ]
    },
    {
     "name": "stderr",
     "output_type": "stream",
     "text": [
      "\u001b[31m\u001b[1mWARNING: This is a development server. Do not use it in a production deployment. Use a production WSGI server instead.\u001b[0m\n",
      " * Running on http://localhost:8080\n",
      "\u001b[33mPress CTRL+C to quit\u001b[0m\n",
      "127.0.0.1 - - [26/Oct/2024 14:17:44] \"GET /search?term=API HTTP/1.1\" 200 -\n",
      "127.0.0.1 - - [26/Oct/2024 14:17:45] \"GET /search?term=単語 HTTP/1.1\" 200 -\n",
      "127.0.0.1 - - [26/Oct/2024 14:17:57] \"GET /search?term=リポジトリ HTTP/1.1\" 200 -\n",
      "127.0.0.1 - - [26/Oct/2024 14:18:18] \"GET /search?term=push HTTP/1.1\" 200 -\n",
      "127.0.0.1 - - [26/Oct/2024 14:18:23] \"GET /search?term=プッシュ HTTP/1.1\" 200 -\n",
      "127.0.0.1 - - [26/Oct/2024 14:18:29] \"GET /search?term=アド HTTP/1.1\" 200 -\n",
      "127.0.0.1 - - [26/Oct/2024 14:18:40] \"GET /search?term=制作 HTTP/1.1\" 200 -\n"
     ]
    }
   ],
   "source": [
    "from flask import Flask, jsonify, request\n",
    "from flask_cors import CORS\n",
    "from nltk.corpus import wordnet\n",
    "\n",
    "app = Flask(__name__)\n",
    "CORS(app)  # CORSを有効にする\n",
    "\n",
    "@app.route('/search', methods=['GET'])\n",
    "def search_wordnet():\n",
    "    term = request.args.get('term', '')\n",
    "    lang = request.args.get('lang', 'jpn')\n",
    "    \n",
    "    synsets = wordnet.synsets(term, lang=lang)\n",
    "    results = []\n",
    "\n",
    "    for synset in synsets:\n",
    "        # 各synsetの詳細情報を取得\n",
    "        results.append({\n",
    "            'synset': str(synset),  # synsetの表現\n",
    "            'pos': synset.pos(),  # 品詞\n",
    "            'definition': synset.definition(lang=lang),  # 定義\n",
    "            'lemma_names': synset.lemma_names(lang=lang),  # レマ名\n",
    "            'examples': synset.examples(lang=lang),  # 使用例\n",
    "            'hypernyms': [str(hypernym) for hypernym in synset.hypernyms()],  # 上位語\n",
    "            'hyponyms': [str(hyponym) for hyponym in synset.hyponyms()],  # 下位語\n",
    "            'meronyms': [str(meronym) for meronym in synset.part_meronyms()],  # 部分名\n",
    "            'holonyms': [str(holonym) for holonym in synset.part_holonyms()],  # 全体名\n",
    "            'entailments': [str(entailment) for entailment in synset.entailments()]  # 必要語\n",
    "        })\n",
    "    \n",
    "    return jsonify(results)\n",
    "\n",
    "if __name__ == '__main__':\n",
    "    app.run(host='localhost', port=8080)\n"
   ]
  }
 ],
 "metadata": {
  "kernelspec": {
   "display_name": "def",
   "language": "python",
   "name": "python3"
  },
  "language_info": {
   "codemirror_mode": {
    "name": "ipython",
    "version": 3
   },
   "file_extension": ".py",
   "mimetype": "text/x-python",
   "name": "python",
   "nbconvert_exporter": "python",
   "pygments_lexer": "ipython3",
   "version": "3.10.14"
  }
 },
 "nbformat": 4,
 "nbformat_minor": 2
}
